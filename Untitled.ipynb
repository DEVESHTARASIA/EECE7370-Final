{
 "cells": [
  {
   "cell_type": "code",
   "execution_count": 48,
   "id": "f5753ebf",
   "metadata": {},
   "outputs": [
    {
     "name": "stderr",
     "output_type": "stream",
     "text": [
      "Using cache found in /root/.cache/torch/hub/pytorch_vision_v0.10.0\n"
     ]
    }
   ],
   "source": [
    "import torch\n",
    "import torch.nn as nn\n",
    "import numpy as np\n",
    "import os\n",
    "import glob\n",
    "from skimage import io\n",
    "import numpy as np\n",
    "import matplotlib.pyplot as plt\n",
    "import pandas as pd\n",
    "from torch.utils.data import Dataset, DataLoader\n",
    "from torchvision import transforms, utils\n",
    "import torch.nn.functional as F\n",
    "\n",
    "model = torch.hub.load('pytorch/vision:v0.10.0', 'mobilenet_v2', pretrained=True)\n",
    "#model.eval()"
   ]
  },
  {
   "cell_type": "code",
   "execution_count": 49,
   "id": "226326aa",
   "metadata": {},
   "outputs": [],
   "source": [
    "def wrong_NLL(output, # Tensor of shape [b_sze, 210 (70 landmarks by 3)]\n",
    "             target, # Tensor of shape [b_sze,140]\n",
    "             ):\n",
    "\n",
    "    \"\"\"\n",
    "    The output structure is essentially a 2d tensor of of shape [b_sze, 210 (70 landmarks by 3)].\n",
    "    Each instance (210 length vector) are a sequence of (x,y) locations for 70 landmarks which makes the first 136 elements. The rest 70 elements of the vector \n",
    "    are the standard deviation of the probabilistic regression.\n",
    "    \"\"\"\n",
    "    b_sze = output.size()[0]\n",
    "\n",
    "    crit = nn.MSELoss(reduction='none')\n",
    "    loss = crit(output[:,:140].view(b_sze,2,-1), target.view(b_sze,2,-1))\n",
    "    loss = torch.sum(loss,dim=1)\n",
    "    loss = loss/(2*output[:,140:]**2)\n",
    "    \n",
    "    return torch.sum(torch.log(output[:,140:]**2)) + torch.sum(loss)\n",
    "\n",
    "\n",
    "def NLL(output, # Tensor of shape [b_sze, 204 (70 landmarks by 3)]\n",
    "             target, # Tensor of shape [b_sze,136]\n",
    "             ):\n",
    "\n",
    "    \"\"\"\n",
    "    The output structure is essentially a 2d tensor of of shape [b_sze, 210 (70 landmarks by 3)].\n",
    "    Each instance (210 length vector) are a sequence of (x,y) locations for 70 landmarks which makes the first 136 elements. The rest 68 elements of the vector \n",
    "    are the standard deviation of the probabilistic regression.\n",
    "    \"\"\"\n",
    "    \n",
    "    b_sze = output.size()[0]\n",
    "\n",
    "    crit = nn.MSELoss(reduction='none')\n",
    "    loss = crit(output[:,:140].view(b_sze,2,-1), target.view(b_sze,2,-1))\n",
    "    loss = torch.sum(loss,dim=1)\n",
    "    loss = loss/(2*output[:,140:]**2)\n",
    "    \n",
    "    return torch.sum(0.5*(torch.log(output[:,140:]**2))) + torch.sum(loss)"
   ]
  },
  {
   "cell_type": "code",
   "execution_count": 29,
   "id": "ff9ef5ef",
   "metadata": {},
   "outputs": [],
   "source": [
    "class FaceLandmarksDataset(Dataset):\n",
    "    def __init__(self,root_dir):\n",
    "        self.root_dir = root_dir\n",
    "        \n",
    "    def __len__(self):\n",
    "        files = os.listdir(self.root_dir)\n",
    "        return int(len(files)/3)\n",
    "        \n",
    "    def __getitem__(self,idx):\n",
    "        if torch.is_tensor(idx):\n",
    "            idx = idx.tolist()\n",
    "        item_name = str(idx)\n",
    "        item_name = item_name.zfill(6)\n",
    "        img_name = self.root_dir+item_name+\".png\"\n",
    "        ldmks_file_name = self.root_dir+item_name+\"_ldmks.txt\"\n",
    "        with open(ldmks_file_name) as f:\n",
    "            landmarks = np.loadtxt(f)\n",
    "        landmarks = torch.tensor(landmarks)\n",
    "        landmarks = torch.reshape(landmarks,(140,))\n",
    "        img = io.imread(img_name)\n",
    "        \n",
    "        sample = {\"image\":img,\"landmarks\":landmarks}\n",
    "        \n",
    "        return sample"
   ]
  },
  {
   "cell_type": "code",
   "execution_count": 56,
   "id": "6b42d78a",
   "metadata": {},
   "outputs": [],
   "source": [
    "dataset = FaceLandmarksDataset(\"/workspace/EECE7370-Final/Dataset/\")\n",
    "dataloader = DataLoader(dataset,batch_size=4,shuffle=True)\n",
    "device = \"cuda\" if torch.cuda.is_available() else \"cpu\""
   ]
  },
  {
   "cell_type": "code",
   "execution_count": 55,
   "id": "7af6c233",
   "metadata": {},
   "outputs": [],
   "source": [
    "feature_extractor = model.features\n",
    "class Mobile_LandmarkDetector(nn.Module):\n",
    "    def __init__(self,feature_extractor_model):\n",
    "            super().__init__()\n",
    "            self.feature_extractor_model = feature_extractor_model\n",
    "            self.regressor_op = nn.Sequential(nn.Flatten(),nn.Dropout(p=0.2,inplace=False),\n",
    "                                              nn.Linear(in_features=1280,out_features=600,bias=True),nn.Dropout(p=0.2),\n",
    "                                             nn.Linear(in_features=600,out_features=140,bias=True))\n",
    "    \n",
    "    def forward(self,x):\n",
    "        x = self.feature_extractor_model(x)\n",
    "        x = regressor_op(x)\n",
    "        return x\n",
    "\n",
    "our_model = Mobile_LandmarkDetector(feature_extractor_model=feature_extractor)\n",
    "for params in our_model.feature_extractor_model.parameters():\n",
    "    param.requires_grad = False\n",
    "    "
   ]
  },
  {
   "cell_type": "code",
   "execution_count": null,
   "id": "bd80e00f",
   "metadata": {},
   "outputs": [],
   "source": [
    "optimizer = torch.optim.SGD(our_model.parameters(), lr=0.001, momentum=0.9)\n",
    "\n",
    "#Training\n",
    "for i in range(50):\n",
    "    our_model.train()\n",
    "    for input,output in dataloader:\n",
    "        input = input.to(device)\n",
    "        output = output.to(device)\n",
    "        optimizer.zero_grad()\n",
    "        \n",
    "        pred_op = our_model(input)\n",
    "        loss = NLL(output,pred_op)\n",
    "        loss.backward()\n",
    "        optimizer.step()"
   ]
  },
  {
   "cell_type": "code",
   "execution_count": null,
   "id": "fbff12e0",
   "metadata": {},
   "outputs": [],
   "source": []
  }
 ],
 "metadata": {
  "kernelspec": {
   "display_name": "Python 3",
   "language": "python",
   "name": "python3"
  },
  "language_info": {
   "codemirror_mode": {
    "name": "ipython",
    "version": 3
   },
   "file_extension": ".py",
   "mimetype": "text/x-python",
   "name": "python",
   "nbconvert_exporter": "python",
   "pygments_lexer": "ipython3",
   "version": "3.8.13"
  },
  "vscode": {
   "interpreter": {
    "hash": "c56527485b7c9dd36c8c8808345694ae9d0a642c0f00dfb6356f9a65494ceb50"
   }
  }
 },
 "nbformat": 4,
 "nbformat_minor": 5
}
