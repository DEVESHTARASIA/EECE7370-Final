{
 "cells": [
  {
   "cell_type": "code",
   "execution_count": 2,
   "id": "742f70c8",
   "metadata": {},
   "outputs": [
    {
     "name": "stderr",
     "output_type": "stream",
     "text": [
      "/opt/conda/lib/python3.8/site-packages/skimage/io/manage_plugins.py:23: UserWarning: Your installed pillow version is < 8.1.2. Several security issues (CVE-2021-27921, CVE-2021-25290, CVE-2021-25291, CVE-2021-25293, and more) have been fixed in pillow 8.1.2 or higher. We recommend to upgrade this library.\n",
      "  from .collection import imread_collection_wrapper\n",
      "Downloading: \"https://github.com/pytorch/vision/zipball/v0.10.0\" to /root/.cache/torch/hub/v0.10.0.zip\n",
      "Downloading: \"https://download.pytorch.org/models/mobilenet_v2-b0353104.pth\" to /root/.cache/torch/hub/checkpoints/mobilenet_v2-b0353104.pth\n",
      "100%|██████████████████████████████████████████████████████████████████████████████| 13.6M/13.6M [00:00<00:00, 15.6MB/s]\n"
     ]
    }
   ],
   "source": [
    "import torch\n",
    "import torch.nn as nn\n",
    "import numpy as np\n",
    "import os\n",
    "import glob\n",
    "from skimage import io\n",
    "\n",
    "model = torch.hub.load('pytorch/vision:v0.10.0', 'mobilenet_v2', pretrained=True)\n",
    "#model.eval()"
   ]
  },
  {
   "cell_type": "code",
   "execution_count": null,
   "id": "ab082e20",
   "metadata": {},
   "outputs": [],
   "source": [
    "def wrong_NLL(output, # Tensor of shape [b_sze, 210 (70 landmarks by 3)]\n",
    "             target, # Tensor of shape [b_sze,140]\n",
    "             ):\n",
    "\n",
    "    \"\"\"\n",
    "    The output structure is essentially a 2d tensor of of shape [b_sze, 210 (70 landmarks by 3)].\n",
    "    Each instance (210 length vector) are a sequence of (x,y) locations for 70 landmarks which makes the first 136 elements. The rest 70 elements of the vector \n",
    "    are the standard deviation of the probabilistic regression.\n",
    "    \"\"\"\n",
    "    b_sze = output.size()[0]\n",
    "\n",
    "    crit = nn.MSELoss(reduction='none')\n",
    "    loss = crit(output[:,:140].view(b_sze,2,-1), target.view(b_sze,2,-1))\n",
    "    loss = torch.sum(loss,dim=1)\n",
    "    loss = loss/(2*output[:,140:]**2)\n",
    "    \n",
    "    return torch.sum(torch.log(output[:,140:]**2)) + torch.sum(loss)\n",
    "\n",
    "\n",
    "def NLL(output, # Tensor of shape [b_sze, 204 (70 landmarks by 3)]\n",
    "             target, # Tensor of shape [b_sze,136]\n",
    "             ):\n",
    "\n",
    "    \"\"\"\n",
    "    The output structure is essentially a 2d tensor of of shape [b_sze, 210 (70 landmarks by 3)].\n",
    "    Each instance (210 length vector) are a sequence of (x,y) locations for 70 landmarks which makes the first 136 elements. The rest 68 elements of the vector \n",
    "    are the standard deviation of the probabilistic regression.\n",
    "    \"\"\"\n",
    "    \n",
    "    b_sze = output.size()[0]\n",
    "\n",
    "    crit = nn.MSELoss(reduction='none')\n",
    "    loss = crit(output[:,:140].view(b_sze,2,-1), target.view(b_sze,2,-1))\n",
    "    loss = torch.sum(loss,dim=1)\n",
    "    loss = loss/(2*output[:,140:]**2)\n",
    "    \n",
    "    return torch.sum(0.5*(torch.log(output[:,140:]**2))) + torch.sum(loss)"
   ]
  },
  {
   "cell_type": "code",
   "execution_count": null,
   "id": "2a3dfb01",
   "metadata": {},
   "outputs": [],
   "source": [
    "class FaceLandmarksDataset(Dataset):\n",
    "    def __init__(self,text_file,root_dir):\n",
    "        self.root_dir = root_dir\n",
    "        \n",
    "    def __len__(self):\n",
    "        return len(glob.iglob(root_dir))/3\n",
    "        \n",
    "    def __getitem__(self,idx):\n",
    "        if torch.is_tensor(idx):\n",
    "            idx = idx.tolist()\n",
    "        item_name = str(idx)\n",
    "        item_name = img_name.zfill(6)\n",
    "        img_name = self.root_dir+item_name+\".png\"\n",
    "        ldmks_file_name = self.root_dir+item_name+\"_ldmks.txt\"\n",
    "        with open(ldmks_file_name) as f:\n",
    "            landmarks = np.loadtxt(f)\n",
    "        landmarks.reshape(140)\n",
    "        landmarks = torch.tensor(landmarks)\n",
    "        img = io.imread(img_name)\n",
    "        \n",
    "        sample = {\"image\":img,\"landmarks\":landmarks}\n",
    "        \n",
    "        return sample"
   ]
  },
  {
   "cell_type": "code",
   "execution_count": 10,
   "id": "72c917eb",
   "metadata": {},
   "outputs": [
    {
     "name": "stdout",
     "output_type": "stream",
     "text": [
      "(70, 2)\n",
      "(140,)\n"
     ]
    }
   ],
   "source": [
    "import numpy as np\n",
    "with open(\"/workspace/dataset/000000_ldmks.txt\") as f:\n",
    "    test = np.loadtxt(f)\n",
    "    \n",
    "print(np.shape(test))\n",
    "q = test.reshape(140)\n",
    "print(np.shape(q))"
   ]
  },
  {
   "cell_type": "code",
   "execution_count": null,
   "id": "8ac5252d",
   "metadata": {},
   "outputs": [],
   "source": []
  }
 ],
 "metadata": {
  "kernelspec": {
   "display_name": "Python 3 (ipykernel)",
   "language": "python",
   "name": "python3"
  },
  "language_info": {
   "codemirror_mode": {
    "name": "ipython",
    "version": 3
   },
   "file_extension": ".py",
   "mimetype": "text/x-python",
   "name": "python",
   "nbconvert_exporter": "python",
   "pygments_lexer": "ipython3",
   "version": "3.8.13"
  },
  "vscode": {
   "interpreter": {
    "hash": "c56527485b7c9dd36c8c8808345694ae9d0a642c0f00dfb6356f9a65494ceb50"
   }
  }
 },
 "nbformat": 4,
 "nbformat_minor": 5
}
